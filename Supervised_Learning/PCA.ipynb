{
 "cells": [
  {
   "cell_type": "markdown",
   "metadata": {},
   "source": [
    "# PCA Algorithm\n",
    " - Step 1: Centre the data\n",
    " - Step 2: Compute the covariance matrix\n",
    " - Step 3: Compute the eigenvalues and eigenvectors of the covariance matrix\n",
    " - Step 4: Sort the eigenvectors by decreasing eigenvalues\n",
    " - Step 5: Choose the k eigenvectors that correspond to the k largest eigenvalues\n",
    " - Step 6: Construct a new matrix with the k eigenvectors\n",
    " - Step 7: Project the original data onto the new matrix\n",
    " - Step 8: Reconstruct the original data from the projected data\n",
    " - Step 9: Compute the reconstruction error"
   ]
  },
  {
   "cell_type": "code",
   "execution_count": 1,
   "metadata": {},
   "outputs": [],
   "source": [
    "import numpy as np"
   ]
  },
  {
   "cell_type": "code",
   "execution_count": 93,
   "metadata": {},
   "outputs": [],
   "source": [
    "class myPCA:\n",
    "    def __init__(self):\n",
    "        self.k = None\n",
    "        self.components = None\n",
    "        self.mean = None\n",
    "        self.variance_share = None\n",
    "\n",
    "    def find_k(self, X, threshold = 0.95):\n",
    "        C = X.T @ X / X.shape[0]\n",
    "        eigen_values, eigen_vectors = np.linalg.eigh(C)\n",
    "        eigen_values = np.sort(eigen_values)[::-1]  # Sort and reverse in one step\n",
    "        total = eigen_values.sum()\n",
    "        for k in range(X.shape[0]):  # Corrected from x.shape[0] to X.shape[0]\n",
    "            if eigen_values[:k+1].sum() / total >= threshold:  # Corrected from x to v\n",
    "                return k + 1\n",
    "        self.k = len(eigen_values)\n",
    "        return self.k\n",
    "    \n",
    "    def fit(self, x, k = None):\n",
    "        self.x = x\n",
    "        if k is not None:\n",
    "            self.k = k\n",
    "        else:\n",
    "            self.k = self.find_k(x)\n",
    "\n",
    "        '''\n",
    "        1. centre data\n",
    "        2. compute covariance matrix\n",
    "        3. compute eigenvalues and eigenvectors\n",
    "        4. sort eigenvectors by decreasing eigenvalues\n",
    "        5. choose k eigenvectors that correspond to k largest eigenvalues\n",
    "        '''\n",
    "        # centre data\n",
    "        self.mean = np.mean(self.x , axis =0)\n",
    "        x = self.x - self.mean\n",
    "\n",
    "        # compute covariance matrix\n",
    "        C = x.T @ x / x.shape[0]\n",
    "        values, vectors = np.linalg.eigh(C)\n",
    "\n",
    "        #sort eigenvectors by decreasing eigenvalues\n",
    "        vectors = vectors[:,::-1]\n",
    "        values = values[::-1]\n",
    "\n",
    "        #store the first k eigenvectors\n",
    "        self.components = vectors[:,:self.k]\n",
    "        self.eigenvalues = values[:self.k]\n",
    "        self.variance_share = np.sum(values[:self.k])/np.sum(values)\n",
    "\n",
    "\n",
    "\n",
    "    def transform(self, x):\n",
    "        '''\n",
    "        6. Construct a new matrix with the k eigenvectors\n",
    "        7. Project the original data onto the new matrix\n",
    "        '''\n",
    "        x = x - self.mean\n",
    "        self.transformed = x @ self.components\n",
    "        return self.transformed\n",
    "    \n",
    "    def reconstruct(self, x):\n",
    "        '''\n",
    "        8. Reconstruct the original data from the projected data\n",
    "        '''\n",
    "        self.reconstructed = self.transformed @ self.components.T + self.mean\n",
    "        return self.reconstructed\n",
    "    \n",
    "    def reconstruction_error_(self, x):\n",
    "        '''\n",
    "        9. Compute the reconstruction error\n",
    "        '''\n",
    "        self.error = np.mean(np.linalg.norm(x - self.reconstructed, axis = 1)**2)\n",
    "        return self.error\n",
    "    \n",
    "    def get_eigenvalues(self):\n",
    "        return self.eigenvalues\n",
    "    \n",
    "    def get_eigenvectors(self):\n",
    "        return self.components\n",
    "    \n",
    "    \n",
    "        \n",
    "        \n",
    "    \n",
    "    "
   ]
  },
  {
   "cell_type": "markdown",
   "metadata": {},
   "source": [
    "## Example"
   ]
  },
  {
   "cell_type": "code",
   "execution_count": 13,
   "metadata": {},
   "outputs": [],
   "source": [
    "x = np.array([\n",
    "    [1.2, 3.4, 5.6, 7.8, 9.0, 1.1, 2.2, 3.3],\n",
    "    [4.5, 5.6, 7.8, 8.9, 0.1, 1.2, 3.4, 4.5],\n",
    "    [6.7, 8.9, 0.1, 1.2, 2.3, 4.5, 5.6, 6.7],\n",
    "    [7.8, 9.0, 1.1, 2.2, 3.3, 5.6, 7.8, 8.9],\n",
    "    [0.1, 1.2, 2.3, 4.5, 5.6, 7.8, 8.9, 9.0],\n",
    "    [2.2, 3.3, 4.5, 6.7, 8.9, 0.1, 1.2, 2.3]\n",
    "])"
   ]
  },
  {
   "cell_type": "code",
   "execution_count": 94,
   "metadata": {},
   "outputs": [],
   "source": [
    "pca = myPCA()"
   ]
  },
  {
   "cell_type": "code",
   "execution_count": 95,
   "metadata": {},
   "outputs": [
    {
     "data": {
      "text/plain": [
       "3"
      ]
     },
     "execution_count": 95,
     "metadata": {},
     "output_type": "execute_result"
    }
   ],
   "source": [
    "pca.find_k(x, threshold = 0.95)"
   ]
  },
  {
   "cell_type": "markdown",
   "metadata": {},
   "source": [
    "k value can be input in fit() function if needed. Otherwise algorithm calculates value based on threshold in find_k() function.\n",
    "\n",
    "pca.fit(x, 4)"
   ]
  },
  {
   "cell_type": "code",
   "execution_count": 96,
   "metadata": {},
   "outputs": [],
   "source": [
    "pca.fit(x )"
   ]
  },
  {
   "cell_type": "code",
   "execution_count": 97,
   "metadata": {},
   "outputs": [
    {
     "data": {
      "text/plain": [
       "array([[ 7.20795568,  1.0775818 ,  1.46221582],\n",
       "       [ 2.95092781, -5.22040934, -5.23836994],\n",
       "       [-6.74567606, -2.54465505,  2.28244943],\n",
       "       [-8.11365404, -1.33373033,  1.06554504],\n",
       "       [-2.48764916,  8.06203586, -2.67503336],\n",
       "       [ 7.18809577, -0.04082294,  3.103193  ]])"
      ]
     },
     "execution_count": 97,
     "metadata": {},
     "output_type": "execute_result"
    }
   ],
   "source": [
    "pca.transform(x)"
   ]
  },
  {
   "cell_type": "code",
   "execution_count": 98,
   "metadata": {},
   "outputs": [
    {
     "data": {
      "text/plain": [
       "0.9829505724631614"
      ]
     },
     "execution_count": 98,
     "metadata": {},
     "output_type": "execute_result"
    }
   ],
   "source": [
    "pca.variance_share"
   ]
  },
  {
   "cell_type": "code",
   "execution_count": 99,
   "metadata": {},
   "outputs": [
    {
     "data": {
      "text/plain": [
       "array([[1.23672239, 2.80926566, 5.24606331, 7.47060784, 8.56090553,\n",
       "        0.94293318, 2.02776315, 3.02786315],\n",
       "       [4.5219922 , 5.67119191, 7.85704204, 8.95462403, 0.17556291,\n",
       "        1.21509119, 3.43522666, 4.54861963],\n",
       "       [7.41952297, 9.13845852, 0.64281078, 1.74791244, 3.10674112,\n",
       "        4.45672685, 6.0717457 , 7.24969803],\n",
       "       [7.06649351, 8.66886245, 0.49090746, 1.58925296, 2.40744471,\n",
       "        5.62149953, 7.2904177 , 8.2957806 ],\n",
       "       [0.21428667, 1.34789282, 2.45585925, 4.65223825, 5.81577853,\n",
       "        7.82138487, 9.01075343, 9.14209066],\n",
       "       [2.04098227, 3.76432863, 4.70731717, 6.88536447, 9.13356721,\n",
       "        0.24236438, 1.26409335, 2.43594793]])"
      ]
     },
     "execution_count": 99,
     "metadata": {},
     "output_type": "execute_result"
    }
   ],
   "source": [
    "pca.reconstruct(x)"
   ]
  },
  {
   "cell_type": "code",
   "execution_count": 100,
   "metadata": {},
   "outputs": [
    {
     "data": {
      "text/plain": [
       "1.1107559961687652"
      ]
     },
     "execution_count": 100,
     "metadata": {},
     "output_type": "execute_result"
    }
   ],
   "source": [
    "pca.reconstruction_error_(x)"
   ]
  },
  {
   "cell_type": "code",
   "execution_count": 101,
   "metadata": {},
   "outputs": [
    {
     "data": {
      "text/plain": [
       "array([[-0.30884117, -0.48132721,  0.15832499],\n",
       "       [-0.31015877, -0.49851243,  0.23849484],\n",
       "       [ 0.34981599, -0.17751574, -0.44505998],\n",
       "       [ 0.40680508, -0.07906917, -0.40560929],\n",
       "       [ 0.31724226,  0.4299002 ,  0.64581307],\n",
       "       [-0.36112725,  0.3824365 , -0.17064343],\n",
       "       [-0.3858341 ,  0.31152243, -0.25772709],\n",
       "       [-0.37501143,  0.23222323, -0.20697627]])"
      ]
     },
     "execution_count": 101,
     "metadata": {},
     "output_type": "execute_result"
    }
   ],
   "source": [
    "pca.get_eigenvectors()"
   ]
  },
  {
   "cell_type": "code",
   "execution_count": 102,
   "metadata": {},
   "outputs": [
    {
     "data": {
      "text/plain": [
       "array([38.30920777, 16.94434179,  8.7848611 ])"
      ]
     },
     "execution_count": 102,
     "metadata": {},
     "output_type": "execute_result"
    }
   ],
   "source": [
    "pca.get_eigenvalues()\n"
   ]
  }
 ],
 "metadata": {
  "kernelspec": {
   "display_name": "Python 3",
   "language": "python",
   "name": "python3"
  },
  "language_info": {
   "codemirror_mode": {
    "name": "ipython",
    "version": 3
   },
   "file_extension": ".py",
   "mimetype": "text/x-python",
   "name": "python",
   "nbconvert_exporter": "python",
   "pygments_lexer": "ipython3",
   "version": "3.11.3"
  }
 },
 "nbformat": 4,
 "nbformat_minor": 2
}
